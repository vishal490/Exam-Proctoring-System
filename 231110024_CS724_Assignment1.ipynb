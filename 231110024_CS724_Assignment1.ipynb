{
 "cells": [
  {
   "cell_type": "markdown",
   "id": "fbb8015d",
   "metadata": {},
   "source": [
    "# Question 1 #\n",
    "### Find the column space of given Matrices"
   ]
  },
  {
   "cell_type": "markdown",
   "id": "6b57eff1",
   "metadata": {},
   "source": [
    "#### a)A=\n",
    "$$\\begin{bmatrix} 1 & 0  \\\\ 0 & 1 \\end{bmatrix}$$"
   ]
  },
  {
   "cell_type": "markdown",
   "id": "48c16ec8",
   "metadata": {},
   "source": [
    "For the matrix to be linearly dependent,w1x1+w2x2+....+wnxn=0 & w1,w2,....wn!=0.\n",
    "From the above matrix we can clearly see that we can't find any scalars such that there linear combination is equal to zero.So we can say that both the vectors are linearly independent and since it is two dimension it can clearly span $R^2$,therefore the\n",
    "column space of matrix is $R^2$"
   ]
  },
  {
   "cell_type": "markdown",
   "id": "2fc557ef",
   "metadata": {},
   "source": [
    "#### b)B=\n",
    "$$\\begin{bmatrix} 1 & 2  \\\\ 2 & 4 \\end{bmatrix}$$"
   ]
  },
  {
   "cell_type": "markdown",
   "id": "d1fbb843",
   "metadata": {},
   "source": [
    "For the matrix to be linearly dependent,w1x1+w2x2+....+wnxn=0 & w1,w2,....wn!=0.\n",
    "\n",
    "In the given matrix,the second vector can be derived from the first vector.\n",
    "                                                       \n",
    "                                                       \n",
    "                                                       X2=2*X1  \n",
    "                                                  =>  2X1-X2=0\n",
    " which is of the form w1x1+w2x2+....+wnxn=0 & w1,w2,....wn!=0.Therefore given vectors are lineaarly dependent.Hence the column space of the matrix is $R^1$"
   ]
  },
  {
   "cell_type": "markdown",
   "id": "097eaf92",
   "metadata": {},
   "source": [
    "#### c)D=\n",
    "$$\\begin{bmatrix} 1 & 2 & 3 \\\\ 0 & 0 & 4 \\end{bmatrix}$$"
   ]
  },
  {
   "cell_type": "markdown",
   "id": "e881cda0",
   "metadata": {},
   "source": [
    "In the above matrix the first two vectors in the given matrix are linearly dependent i.e w1x1+w2x2+w3x3!=0 for values w1=-2,w2=1,w3=0,We can consider one of the vectors from first two vectors the third vector <br>$$\\begin{bmatrix} 2 & 3 \\\\ 0 & 4 \\end{bmatrix}$$.From the above matrix we can clearly see that we can't find any scalars such that there linear combination is equal to zero.So we can say that both the vectors are linearly independent and since it is two dimension it can clearly span $R^2$,therefore the\n",
    "column space of matrix is $R^2$"
   ]
  },
  {
   "cell_type": "markdown",
   "id": "b895f3a6",
   "metadata": {},
   "source": [
    "# Question 2 #\n",
    "### Write a program (in any convenient language, like Python/Matlab) that emulates user localization using GPS. Use the following steps for doing this emulation.Also submit a report with relevant results and explainations."
   ]
  },
  {
   "cell_type": "markdown",
   "id": "5c46ea30",
   "metadata": {},
   "source": [
    "#### (a) Fix the user at (100,100,100). Put 5 satellites at any random locations (you can manually put their locations), and fix their positions. Now calculate the time it takes for a signal to arrive from each one of these satellites to the user."
   ]
  },
  {
   "cell_type": "code",
   "execution_count": 5,
   "id": "2a7ea5ac",
   "metadata": {},
   "outputs": [
    {
     "name": "stdout",
     "output_type": "stream",
     "text": [
      "Distance from satellite 0  to user point is 277.53378172755833 Kilometers\n",
      "Distance from satellite 1  to user point is 275.9148419349709 Kilometers\n",
      "Distance from satellite 2  to user point is 252.38858928247924 Kilometers\n",
      "Distance from satellite 3  to user point is 468.29477895872384 Kilometers\n",
      "Distance from satellite 4  to user point is 504.65433714573385 Kilometers\n",
      "Time taken to receive signal from satellite 0  to user point is 0.0009251126057585278 sec\n",
      "Time taken to receive signal from satellite 1  to user point is 0.0009197161397832364 sec\n",
      "Time taken to receive signal from satellite 2  to user point is 0.0008412952976082641 sec\n",
      "Time taken to receive signal from satellite 3  to user point is 0.0015609825965290794 sec\n",
      "Time taken to receive signal from satellite 4  to user point is 0.0016821811238191128 sec\n"
     ]
    }
   ],
   "source": [
    "import numpy as np\n",
    "import matplotlib.pyplot as plt\n",
    "import random\n",
    "userlocation=np.array([100,100,100])\n",
    "satellitelocations=[np.array([210,170,345]),np.array([127,250,330]),np.array([230,220,280]),np.array([320,320,450]),np.array([260,576,150])]\n",
    "speedoflight=3*10**5 #in km/s\n",
    "distancefromsatellite=np.zeros(5)\n",
    "Times=np.zeros(5)\n",
    "#time=distance/speed,distance here is calculated by np.linalg.norm\n",
    "for i in range(5):\n",
    "    distancefromsatellite[i]=np.linalg.norm( satellitelocations[i]- userlocation)\n",
    "    Times[i]=distancefromsatellite[i]/speedoflight\n",
    "for i in range(5):\n",
    "    print(\"Distance from satellite\",i,\" to user point is {}\".format(distancefromsatellite[i]),\"Kilometers\")\n",
    "for i in range(5):\n",
    "    print(\"Time taken to receive signal from satellite\",i,\" to user point is {}\".format(Times[i]),\"sec\")"
   ]
  },
  {
   "cell_type": "markdown",
   "id": "270c406b",
   "metadata": {},
   "source": [
    "In the above program i have calculated the time taken to receive the signal from the 5 satellites with random locations i.e latitude,longitude,altitude to the user point\n",
    "Formula to calculate distance  and  time is   \n",
    "    $ (x-x1)^2+(y-y1)^2+(z-z1)^2=d1^2 $  \n",
    "    $ (x-x2)^2+(y-y2)^2+(z-z2)^2=d2^2 $   \n",
    "    $ (x-x3)^2+(y-y3)^2+(z-z3)^2=d3^2 $  \n",
    "    $ (x-x4)^2+(y-y4)^2+(z-z4)^2=d4^2 $   \n",
    "    $ (x-x5)^2+(y-y5)^2+(z-z5)^2=d5^2 $   \n",
    "\n",
    "##                             time=distance/speed of light\n",
    "\n",
    "As we know speed of light is 3*(10**5)kilometers/sec<br>\n",
    "From the above formulas the distance and time is:<br>\n",
    "Distance from satellite 0  to user point is 277.53378172755833 Kilometers<br>\n",
    "Distance from satellite 1  to user point is 275.9148419349709 Kilometers<br>\n",
    "Distance from satellite 2  to user point is 252.38858928247924 Kilometers<br>\n",
    "Distance from satellite 3  to user point is 468.29477895872384 Kilometers<br>\n",
    "Distance from satellite 4  to user point is 504.65433714573385 Kilometers<br>\n",
    "Time taken to receive signal from satellite 0  to user point is 0.0009251126057585278 sec<br>\n",
    "Time taken to receive signal from satellite 1  to user point is 0.0009197161397832364 sec<br>\n",
    "Time taken to receive signal from satellite 2  to user point is 0.0008412952976082641 sec<br>\n",
    "Time taken to receive signal from satellite 3  to user point is 0.0015609825965290794 sec<br>\n",
    "Time taken to receive signal from satellite 4  to user point is 0.0016821811238191128 sec<br>"
   ]
  },
  {
   "cell_type": "markdown",
   "id": "ffa371a0",
   "metadata": {},
   "source": [
    "#### (b) Now lets do the opposite operation, i.e. use the satellite locations and the times to find out the location of the user. Check whether it is coming exactly as (100,100,100).\n"
   ]
  },
  {
   "cell_type": "code",
   "execution_count": 6,
   "id": "660850c9",
   "metadata": {},
   "outputs": [
    {
     "name": "stdout",
     "output_type": "stream",
     "text": [
      "Matrix A:\n",
      "[[-166.  160.  -30.]\n",
      " [ 206.  -60. -100.]\n",
      " [ 180.  200.  340.]\n",
      " [-120.  512. -600.]]\n",
      "Matrix B:\n",
      "[[ -3600.]\n",
      " [  4600.]\n",
      " [ 72000.]\n",
      " [-20800.]]\n",
      "The estimated userlocation coordinates 99.99999999999999   99.99999999999997   99.99999999999994\n",
      "Estimated USERLOC:\n",
      "[[100.]\n",
      " [100.]\n",
      " [100.]]\n"
     ]
    }
   ],
   "source": [
    "A=np.zeros((4,3))\n",
    "for i in range(4):\n",
    "    for j in range(3):\n",
    "        A[i][j]=2*(satellitelocations[i+1][j]-satellitelocations[i][j])\n",
    "print(\"Matrix A:\")\n",
    "print(A)\n",
    "B=np.zeros((4,1))\n",
    "for i in range(4):\n",
    "    B[i][0]=(distancefromsatellite[i]**2-distancefromsatellite[i+1]**2)-(satellitelocations[i][0]**2-satellitelocations[i+1][0]**2)\n",
    "    B[i][0]-=(satellitelocations[i][1]**2-satellitelocations[i+1][1]**2)\n",
    "    B[i][0]-=(satellitelocations[i][2]**2-satellitelocations[i+1][2]**2)\n",
    "print(\"Matrix B:\")\n",
    "print(B)    \n",
    "Atranspose=A.transpose()\n",
    "ATA=np.matmul(Atranspose,A)\n",
    "InverseofAAT=np.linalg.inv(ATA)\n",
    "OP=np.matmul(InverseofAAT,Atranspose)\n",
    "EstUserLoc=np.matmul(OP,B)\n",
    "print(\"The estimated userlocation coordinates\",EstUserLoc[0][0],\" \",EstUserLoc[1][0],\" \",EstUserLoc[2][0])\n",
    "print(\"Estimated USERLOC:\")\n",
    "print(EstUserLoc)"
   ]
  },
  {
   "cell_type": "markdown",
   "id": "38c6a5fa",
   "metadata": {},
   "source": [
    "From question 1 we have got the distance and time from the satellites to the userPoint ,so now by using those satellite points and times we have calculated ,we can find the user point by using the below steps.\n",
    "\n",
    "From the distance formula that we have calculated in question 1  we can reduce it in the form of system of linear equations Ax=B, where<br> \n",
    "     A=$$\\begin{bmatrix} 2(x2-x1) & 2(y2-y1) & 2(z2-z1) \\\\ 2(x3-x2) & 2(y3-y2) & 2(z3-z2) \\\\ 2(x4-x3) & 2(y4-y3) & 2(z4-z3) \\\\ 2(x5-x4) & 2(y5-y4) & 2(z5-z4) \\end{bmatrix}$$ and B=$$\\begin{bmatrix} (d1^2-d2^2) - (x1^2-x2^2) & (y1^2-y2^2) & (z1^2-z2^2)\\\\ (d2^2-d3^2) - (x2^2-x3^2) & (y2^2-y3^2) & (z2^2-z3^2) \\\\ (d3^2-d4^2) - (x3^2-x4^2) & (y3^2-y4^2) & (z3^2-z4^2) \\\\ (d4^2-d5^2) - (x4^2-x5^2) & (y4^2-y5^2) & (z4^2-z5^2) \\end{bmatrix}$$ \n",
    " \n",
    "By solving the above equations using $ (A^TA)^{-1}A^TB $ we get the exact location of the user which we can find in the output below  \n",
    "\n",
    "Output : The estimated userlocation coordinates [99.99999999999999,99.99999999999997,99.99999999999994]"
   ]
  },
  {
   "cell_type": "markdown",
   "id": "be085283",
   "metadata": {},
   "source": [
    "#### (c) Now add some random errors with the times (you can use function likes “rand” in matlab). Check how much location inaccuracy it showing up."
   ]
  },
  {
   "cell_type": "code",
   "execution_count": 7,
   "id": "48fdc637",
   "metadata": {},
   "outputs": [
    {
     "name": "stdout",
     "output_type": "stream",
     "text": [
      "Time error is : 9.394707232991633e-07\n",
      "Distance error is  0.281841216989749\n",
      "Distance with error from satellite 0  to user point is 277.53378172755833 Kilometers\n",
      "Distance with error from satellite 1  to user point is 275.9148419349709 Kilometers\n",
      "Distance with error from satellite 2  to user point is 252.38858928247924 Kilometers\n",
      "Distance with error from satellite 3  to user point is 468.29477895872384 Kilometers\n",
      "Distance with error from satellite 4  to user point is 504.65433714573385 Kilometers\n",
      "Matrix A:\n",
      "[[-166.  160.  -30.]\n",
      " [ 206.  -60. -100.]\n",
      " [ 180.  200.  340.]\n",
      " [-120.  512. -600.]]\n",
      "Matrix B:\n",
      "[[ -3600.91256792]\n",
      " [  4586.73866464]\n",
      " [ 72121.70252651]\n",
      " [-20779.50475574]]\n",
      "The estimated userlocation coordinates with error 100.12606906176727   100.23839989583765   100.1487177758654\n",
      "Estimated USERLOC with error:\n",
      "[[100.12606906]\n",
      " [100.2383999 ]\n",
      " [100.14871778]]\n",
      "Location inaccuracy with time_error 9.394707232991633e-07 is 0.5334179286318544\n"
     ]
    }
   ],
   "source": [
    "tou=random.uniform(1*(10**-6),9*(10**-7))#time error\n",
    "delta=tou*speedoflight#distance error\n",
    "print(\"Time error is :\",tou)\n",
    "print(\"Distance error is \",delta)\n",
    "distancefromsatwitherror=np.zeros(5)\n",
    "for i in range(5):\n",
    "    distancefromsatwitherror[i]=distancefromsatellite[i]-delta\n",
    "    print(\"Distance with error from satellite\",i,\" to user point is {}\".format(distancefromsatellite[i]),\"Kilometers\")\n",
    "for i in range(4):\n",
    "    B[i][0]=(distancefromsatwitherror[i]**2-distancefromsatwitherror[i+1]**2)-(satellitelocations[i][0]**2-satellitelocations[i+1][0]**2)\n",
    "    B[i][0]-=(satellitelocations[i][1]**2-satellitelocations[i+1][1]**2)\n",
    "    B[i][0]-=(satellitelocations[i][2]**2-satellitelocations[i+1][2]**2)\n",
    "print(\"Matrix A:\")\n",
    "print(A)\n",
    "print(\"Matrix B:\")\n",
    "print(B)    \n",
    "Atranspose=A.transpose()\n",
    "ATA=np.matmul(Atranspose,A)\n",
    "InverseofAAT=np.linalg.inv(ATA)\n",
    "OP=np.matmul(InverseofAAT,Atranspose)\n",
    "EstUserLocwitherror=np.matmul(OP,B)\n",
    "print(\"The estimated userlocation coordinates with error\",EstUserLocwitherror[0][0],\" \",EstUserLocwitherror[1][0],\" \",EstUserLocwitherror[2][0])\n",
    "print(\"Estimated USERLOC with error:\")\n",
    "print(EstUserLocwitherror)\n",
    "firstdisterror=np.linalg.norm(EstUserLocwitherror-userlocation)\n",
    "print(\"Location inaccuracy with time_error {} is {}\".format(tou,firstdisterror))"
   ]
  },
  {
   "cell_type": "markdown",
   "id": "8feedf5a",
   "metadata": {},
   "source": [
    "Here in this i have introduced an random time error between $ 10^-6\\ to\\ 9*10^-7 $ and then calculating the localization error.\n",
    "Localization error can be defined as the distance between the user point to the the point that we have derived with time error.\n",
    "Firstly we need to find the exact point with time error ,that can be done by solving the above equation with new distance.  \n",
    "New distance can be calculated by subtracting the original distance with error distance.The error we introduced here is e=0.281841216989749<br>.The B matrix in mentioned above wi\n",
    "B=$$\\begin{bmatrix} ((d1-e)^2-(d2-e)^2) - (x1^2-x2^2) & (y1^2-y2^2) & (z1^2-z2^2)\\\\ ((d2-e)^2-(d3-e)^2) - (x2^2-x3^2) & (y2^2-y3^2) & (z2^2-z3^2) \\\\ ((d3-e)^2-(d4-e)^2) - (x3^2-x4^2) & (y3^2-y4^2) & (z3^2-z4^2) \\\\ ((d4-e)^2-(d5-e)^2) - (x4^2-x5^2) & (y4^2-y5^2) & (z4^2-z5^2) \\end{bmatrix}$$\n",
    "Time error that i have introduced is 9.394707232991633e-07 \n",
    "Now the new point can be calculated by using the below formula \n",
    "$ x=(A^TA)^-1A^TB $ \n",
    "\n",
    "By calculating the distance between userpoint and new point ,the Localization error i have got is 0.5334179286318544"
   ]
  },
  {
   "cell_type": "markdown",
   "id": "6b4c9de1",
   "metadata": {},
   "source": [
    "#### (d) Now increase the amount of the random errors with time, and check what is the effect of this change on the localization error. You can plot a graph on the amount of timing errors vs localization error to see the effect. You need to run the program multiple time and then can take the average localization errors)."
   ]
  },
  {
   "cell_type": "code",
   "execution_count": 8,
   "id": "a7d5aef0",
   "metadata": {},
   "outputs": [
    {
     "name": "stdout",
     "output_type": "stream",
     "text": [
      "Time error is : 9.825394560901386e-07\n",
      "Distance error is  0.2947618368270416\n",
      "Distance with error from satellite 0  to user point is 277.53378172755833 Kilometers\n",
      "Distance with error from satellite 1  to user point is 275.9148419349709 Kilometers\n",
      "Distance with error from satellite 2  to user point is 252.38858928247924 Kilometers\n",
      "Distance with error from satellite 3  to user point is 468.29477895872384 Kilometers\n",
      "Distance with error from satellite 4  to user point is 504.65433714573385 Kilometers\n",
      "Time error is : 9.71613722981195e-07\n",
      "Distance error is  0.29148411689435855\n",
      "Distance with error from satellite 0  to user point is 277.53378172755833 Kilometers\n",
      "Distance with error from satellite 1  to user point is 275.9148419349709 Kilometers\n",
      "Distance with error from satellite 2  to user point is 252.38858928247924 Kilometers\n",
      "Distance with error from satellite 3  to user point is 468.29477895872384 Kilometers\n",
      "Distance with error from satellite 4  to user point is 504.65433714573385 Kilometers\n",
      "Time error is : 9.317888346030654e-07\n",
      "Distance error is  0.2795366503809196\n",
      "Distance with error from satellite 0  to user point is 277.53378172755833 Kilometers\n",
      "Distance with error from satellite 1  to user point is 275.9148419349709 Kilometers\n",
      "Distance with error from satellite 2  to user point is 252.38858928247924 Kilometers\n",
      "Distance with error from satellite 3  to user point is 468.29477895872384 Kilometers\n",
      "Distance with error from satellite 4  to user point is 504.65433714573385 Kilometers\n",
      "Time error is : 9.635029238325272e-07\n",
      "Distance error is  0.28905087714975813\n",
      "Distance with error from satellite 0  to user point is 277.53378172755833 Kilometers\n",
      "Distance with error from satellite 1  to user point is 275.9148419349709 Kilometers\n",
      "Distance with error from satellite 2  to user point is 252.38858928247924 Kilometers\n",
      "Distance with error from satellite 3  to user point is 468.29477895872384 Kilometers\n",
      "Distance with error from satellite 4  to user point is 504.65433714573385 Kilometers\n",
      "Time error is : 9.211599756944634e-07\n",
      "Distance error is  0.27634799270833904\n",
      "Distance with error from satellite 0  to user point is 277.53378172755833 Kilometers\n",
      "Distance with error from satellite 1  to user point is 275.9148419349709 Kilometers\n",
      "Distance with error from satellite 2  to user point is 252.38858928247924 Kilometers\n",
      "Distance with error from satellite 3  to user point is 468.29477895872384 Kilometers\n",
      "Distance with error from satellite 4  to user point is 504.65433714573385 Kilometers\n",
      "Time error is : 9.961429455897983e-07\n",
      "Distance error is  0.29884288367693945\n",
      "Distance with error from satellite 0  to user point is 277.53378172755833 Kilometers\n",
      "Distance with error from satellite 1  to user point is 275.9148419349709 Kilometers\n",
      "Distance with error from satellite 2  to user point is 252.38858928247924 Kilometers\n",
      "Distance with error from satellite 3  to user point is 468.29477895872384 Kilometers\n",
      "Distance with error from satellite 4  to user point is 504.65433714573385 Kilometers\n",
      "Time error is : 9.061036605320942e-07\n",
      "Distance error is  0.27183109815962825\n",
      "Distance with error from satellite 0  to user point is 277.53378172755833 Kilometers\n",
      "Distance with error from satellite 1  to user point is 275.9148419349709 Kilometers\n",
      "Distance with error from satellite 2  to user point is 252.38858928247924 Kilometers\n",
      "Distance with error from satellite 3  to user point is 468.29477895872384 Kilometers\n",
      "Distance with error from satellite 4  to user point is 504.65433714573385 Kilometers\n",
      "Time error is : 9.575728297284582e-07\n",
      "Distance error is  0.28727184891853746\n",
      "Distance with error from satellite 0  to user point is 277.53378172755833 Kilometers\n",
      "Distance with error from satellite 1  to user point is 275.9148419349709 Kilometers\n",
      "Distance with error from satellite 2  to user point is 252.38858928247924 Kilometers\n",
      "Distance with error from satellite 3  to user point is 468.29477895872384 Kilometers\n",
      "Distance with error from satellite 4  to user point is 504.65433714573385 Kilometers\n",
      "Time error is : 9.7270598575442e-07\n",
      "Distance error is  0.29181179572632604\n",
      "Distance with error from satellite 0  to user point is 277.53378172755833 Kilometers\n",
      "Distance with error from satellite 1  to user point is 275.9148419349709 Kilometers\n",
      "Distance with error from satellite 2  to user point is 252.38858928247924 Kilometers\n",
      "Distance with error from satellite 3  to user point is 468.29477895872384 Kilometers\n",
      "Distance with error from satellite 4  to user point is 504.65433714573385 Kilometers\n",
      "Time error is : 9.709714392682862e-07\n",
      "Distance error is  0.29129143178048583\n",
      "Distance with error from satellite 0  to user point is 277.53378172755833 Kilometers\n",
      "Distance with error from satellite 1  to user point is 275.9148419349709 Kilometers\n",
      "Distance with error from satellite 2  to user point is 252.38858928247924 Kilometers\n",
      "Distance with error from satellite 3  to user point is 468.29477895872384 Kilometers\n",
      "Distance with error from satellite 4  to user point is 504.65433714573385 Kilometers\n",
      "Time error is : 9.661997708919708e-07\n",
      "Distance error is  0.28985993126759124\n",
      "Distance with error from satellite 0  to user point is 277.53378172755833 Kilometers\n",
      "Distance with error from satellite 1  to user point is 275.9148419349709 Kilometers\n",
      "Distance with error from satellite 2  to user point is 252.38858928247924 Kilometers\n",
      "Distance with error from satellite 3  to user point is 468.29477895872384 Kilometers\n",
      "Distance with error from satellite 4  to user point is 504.65433714573385 Kilometers\n",
      "Time error is : 9.754899522661642e-07\n",
      "Distance error is  0.29264698567984926\n",
      "Distance with error from satellite 0  to user point is 277.53378172755833 Kilometers\n",
      "Distance with error from satellite 1  to user point is 275.9148419349709 Kilometers\n",
      "Distance with error from satellite 2  to user point is 252.38858928247924 Kilometers\n",
      "Distance with error from satellite 3  to user point is 468.29477895872384 Kilometers\n",
      "Distance with error from satellite 4  to user point is 504.65433714573385 Kilometers\n",
      "Time error is : 9.84356086007719e-07\n",
      "Distance error is  0.2953068258023157\n",
      "Distance with error from satellite 0  to user point is 277.53378172755833 Kilometers\n",
      "Distance with error from satellite 1  to user point is 275.9148419349709 Kilometers\n",
      "Distance with error from satellite 2  to user point is 252.38858928247924 Kilometers\n",
      "Distance with error from satellite 3  to user point is 468.29477895872384 Kilometers\n",
      "Distance with error from satellite 4  to user point is 504.65433714573385 Kilometers\n",
      "Time error is : 9.751021468657042e-07\n",
      "Distance error is  0.2925306440597113\n",
      "Distance with error from satellite 0  to user point is 277.53378172755833 Kilometers\n",
      "Distance with error from satellite 1  to user point is 275.9148419349709 Kilometers\n",
      "Distance with error from satellite 2  to user point is 252.38858928247924 Kilometers\n",
      "Distance with error from satellite 3  to user point is 468.29477895872384 Kilometers\n",
      "Distance with error from satellite 4  to user point is 504.65433714573385 Kilometers\n",
      "Time error is : 9.007154804155939e-07\n",
      "Distance error is  0.27021464412467816\n",
      "Distance with error from satellite 0  to user point is 277.53378172755833 Kilometers\n",
      "Distance with error from satellite 1  to user point is 275.9148419349709 Kilometers\n",
      "Distance with error from satellite 2  to user point is 252.38858928247924 Kilometers\n",
      "Distance with error from satellite 3  to user point is 468.29477895872384 Kilometers\n",
      "Distance with error from satellite 4  to user point is 504.65433714573385 Kilometers\n",
      "Time error is : 9.683616280171188e-07\n",
      "Distance error is  0.29050848840513566\n",
      "Distance with error from satellite 0  to user point is 277.53378172755833 Kilometers\n",
      "Distance with error from satellite 1  to user point is 275.9148419349709 Kilometers\n",
      "Distance with error from satellite 2  to user point is 252.38858928247924 Kilometers\n",
      "Distance with error from satellite 3  to user point is 468.29477895872384 Kilometers\n",
      "Distance with error from satellite 4  to user point is 504.65433714573385 Kilometers\n",
      "Time error is : 9.554994583678115e-07\n",
      "Distance error is  0.28664983751034345\n",
      "Distance with error from satellite 0  to user point is 277.53378172755833 Kilometers\n",
      "Distance with error from satellite 1  to user point is 275.9148419349709 Kilometers\n",
      "Distance with error from satellite 2  to user point is 252.38858928247924 Kilometers\n",
      "Distance with error from satellite 3  to user point is 468.29477895872384 Kilometers\n",
      "Distance with error from satellite 4  to user point is 504.65433714573385 Kilometers\n",
      "Time error is : 9.193225404576586e-07\n",
      "Distance error is  0.2757967621372976\n",
      "Distance with error from satellite 0  to user point is 277.53378172755833 Kilometers\n",
      "Distance with error from satellite 1  to user point is 275.9148419349709 Kilometers\n",
      "Distance with error from satellite 2  to user point is 252.38858928247924 Kilometers\n",
      "Distance with error from satellite 3  to user point is 468.29477895872384 Kilometers\n",
      "Distance with error from satellite 4  to user point is 504.65433714573385 Kilometers\n",
      "The Average Localization error for 18 random errors  is  0.5431546885236954\n"
     ]
    },
    {
     "data": {
      "image/png": "[encoded data removed]",
      "text/plain": [
       "<Figure size 640x480 with 1 Axes>"
      ]
     },
     "metadata": {},
     "output_type": "display_data"
    }
   ],
   "source": [
    "def distance_error():\n",
    "    tou=random.uniform(1*(10**-6),9*(10**-7))#time error\n",
    "    delta=tou*speedoflight#distance error\n",
    "    print(\"Time error is :\",tou)\n",
    "    print(\"Distance error is \",delta)\n",
    "    distancefromsatwitherror=np.zeros(5)\n",
    "    for i in range(5):\n",
    "        distancefromsatwitherror[i]=distancefromsatellite[i]-delta\n",
    "        print(\"Distance with error from satellite\",i,\" to user point is {}\".format(distancefromsatellite[i]),\"Kilometers\")\n",
    "    for i in range(4):\n",
    "        B[i][0]=(distancefromsatwitherror[i]**2-distancefromsatwitherror[i+1]**2)-(satellitelocations[i][0]**2-satellitelocations[i+1][0]**2)\n",
    "        B[i][0]-=(satellitelocations[i][1]**2-satellitelocations[i+1][1]**2)\n",
    "        B[i][0]-=(satellitelocations[i][2]**2-satellitelocations[i+1][2]**2)\n",
    "    Atranspose=A.transpose()\n",
    "    ATA=np.matmul(Atranspose,A)\n",
    "    InverseofAAT=np.linalg.inv(ATA)\n",
    "    OP=np.matmul(InverseofAAT,Atranspose)\n",
    "    EstUserLocwitherror=np.matmul(OP,B)\n",
    "    disterror=np.linalg.norm(EstUserLocwitherror-userlocation)\n",
    "    return disterror,tou\n",
    "localizationInAccuracy=[]\n",
    "TimeError=[]\n",
    "localizationerrorsum=0\n",
    "for i in range(18):\n",
    "    lIA,Tou=distance_error()\n",
    "    localizationInAccuracy.append(lIA)\n",
    "    TimeError.append(Tou)\n",
    "    localizationerrorsum+=lIA\n",
    "localizationerroravg=localizationerrorsum/18\n",
    "print(\"The Average Localization error for 18 random errors  is \",localizationerroravg)\n",
    "plt.plot(TimeError, localizationInAccuracy,color='red')\n",
    "plt.scatter(TimeError, localizationInAccuracy,color='blue')\n",
    "plt.show()"
   ]
  },
  {
   "cell_type": "markdown",
   "id": "85750aa3",
   "metadata": {},
   "source": [
    "Here I have introduced 18 time errors and accordingly i have plotted the graph between time error and localization error.<br>\n",
    "The average localization error i have got for 18 random errors is 0.5431546885236954"
   ]
  }
 ],
 "metadata": {
  "celltoolbar": "Raw Cell Format",
  "kernelspec": {
   "display_name": "Python 3 (ipykernel)",
   "language": "python",
   "name": "python3"
  },
  "language_info": {
   "codemirror_mode": {
    "name": "ipython",
    "version": 3
   },
   "file_extension": ".py",
   "mimetype": "text/x-python",
   "name": "python",
   "nbconvert_exporter": "python",
   "pygments_lexer": "ipython3",
   "version": "3.11.4"
  }
 },
 "nbformat": 4,
 "nbformat_minor": 5
}
